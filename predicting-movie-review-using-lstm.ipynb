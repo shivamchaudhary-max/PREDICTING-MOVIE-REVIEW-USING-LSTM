{
 "cells": [
  {
   "cell_type": "markdown",
   "id": "57827342",
   "metadata": {
    "id": "t_HPS85iqc44",
    "papermill": {
     "duration": 0.009448,
     "end_time": "2022-01-22T08:50:48.224619",
     "exception": false,
     "start_time": "2022-01-22T08:50:48.215171",
     "status": "completed"
    },
    "tags": []
   },
   "source": [
    "6. The IMDB movie review sentiment classification problem. Each movie review is a variable sequence of words and the sentiment of each movie review must be classified. The Large Movie Review Dataset (often referred to as the IMDB dataset) contains 25,000 highly-polar movie reviews (good or bad) for training and the same amount again for testing. The problem is to determine whether a given movie review has a positive or negative sentiment. Use LSTM for sequence classification in the IMDB dataset. Perform the following.\n",
    "a) Load dataset but keep only top 5000 words.\n",
    "b) Build LSTM model.\n",
    "c) Train the network and perform hyper parameter tuning.\n",
    "d) Evaluate the model."
   ]
  },
  {
   "cell_type": "code",
   "execution_count": 1,
   "id": "b22a5353",
   "metadata": {
    "execution": {
     "iopub.execute_input": "2022-01-22T08:50:48.254880Z",
     "iopub.status.busy": "2022-01-22T08:50:48.254069Z",
     "iopub.status.idle": "2022-01-22T08:50:53.168798Z",
     "shell.execute_reply": "2022-01-22T08:50:53.169224Z"
    },
    "id": "n3zgr1yjqknK",
    "papermill": {
     "duration": 4.935881,
     "end_time": "2022-01-22T08:50:53.169534",
     "exception": false,
     "start_time": "2022-01-22T08:50:48.233653",
     "status": "completed"
    },
    "tags": []
   },
   "outputs": [],
   "source": [
    "# LSTM for sequence classification in the IMDB dataset\n",
    "import numpy\n",
    "from keras.datasets import imdb\n",
    "from keras.models import Sequential\n",
    "from keras.layers import Dense,Dropout\n",
    "from keras.layers import LSTM\n",
    "from keras.layers.embeddings import Embedding\n",
    "from keras.preprocessing import sequence"
   ]
  },
  {
   "cell_type": "code",
   "execution_count": 2,
   "id": "5a9179e8",
   "metadata": {
    "execution": {
     "iopub.execute_input": "2022-01-22T08:50:53.191668Z",
     "iopub.status.busy": "2022-01-22T08:50:53.190831Z",
     "iopub.status.idle": "2022-01-22T08:50:59.373295Z",
     "shell.execute_reply": "2022-01-22T08:50:59.373752Z"
    },
    "id": "8WrdidzDqoLf",
    "outputId": "361cd9fc-66ab-404f-81eb-987069d932c6",
    "papermill": {
     "duration": 6.195393,
     "end_time": "2022-01-22T08:50:59.373910",
     "exception": false,
     "start_time": "2022-01-22T08:50:53.178517",
     "status": "completed"
    },
    "tags": []
   },
   "outputs": [
    {
     "name": "stdout",
     "output_type": "stream",
     "text": [
      "Downloading data from https://storage.googleapis.com/tensorflow/tf-keras-datasets/imdb.npz\n",
      "17465344/17464789 [==============================] - 0s 0us/step\n",
      "17473536/17464789 [==============================] - 0s 0us/step\n"
     ]
    },
    {
     "data": {
      "text/plain": [
       "array([list([1, 14, 22, 16, 43, 530, 973, 1622, 1385, 65, 458, 4468, 66, 3941, 4, 173, 36, 256, 5, 25, 100, 43, 838, 112, 50, 670, 2, 9, 35, 480, 284, 5, 150, 4, 172, 112, 167, 2, 336, 385, 39, 4, 172, 4536, 1111, 17, 546, 38, 13, 447, 4, 192, 50, 16, 6, 147, 2025, 19, 14, 22, 4, 1920, 4613, 469, 4, 22, 71, 87, 12, 16, 43, 530, 38, 76, 15, 13, 1247, 4, 22, 17, 515, 17, 12, 16, 626, 18, 2, 5, 62, 386, 12, 8, 316, 8, 106, 5, 4, 2223, 2, 16, 480, 66, 3785, 33, 4, 130, 12, 16, 38, 619, 5, 25, 124, 51, 36, 135, 48, 25, 1415, 33, 6, 22, 12, 215, 28, 77, 52, 5, 14, 407, 16, 82, 2, 8, 4, 107, 117, 2, 15, 256, 4, 2, 7, 3766, 5, 723, 36, 71, 43, 530, 476, 26, 400, 317, 46, 7, 4, 2, 1029, 13, 104, 88, 4, 381, 15, 297, 98, 32, 2071, 56, 26, 141, 6, 194, 2, 18, 4, 226, 22, 21, 134, 476, 26, 480, 5, 144, 30, 2, 18, 51, 36, 28, 224, 92, 25, 104, 4, 226, 65, 16, 38, 1334, 88, 12, 16, 283, 5, 16, 4472, 113, 103, 32, 15, 16, 2, 19, 178, 32]),\n",
       "       list([1, 194, 1153, 194, 2, 78, 228, 5, 6, 1463, 4369, 2, 134, 26, 4, 715, 8, 118, 1634, 14, 394, 20, 13, 119, 954, 189, 102, 5, 207, 110, 3103, 21, 14, 69, 188, 8, 30, 23, 7, 4, 249, 126, 93, 4, 114, 9, 2300, 1523, 5, 647, 4, 116, 9, 35, 2, 4, 229, 9, 340, 1322, 4, 118, 9, 4, 130, 4901, 19, 4, 1002, 5, 89, 29, 952, 46, 37, 4, 455, 9, 45, 43, 38, 1543, 1905, 398, 4, 1649, 26, 2, 5, 163, 11, 3215, 2, 4, 1153, 9, 194, 775, 7, 2, 2, 349, 2637, 148, 605, 2, 2, 15, 123, 125, 68, 2, 2, 15, 349, 165, 4362, 98, 5, 4, 228, 9, 43, 2, 1157, 15, 299, 120, 5, 120, 174, 11, 220, 175, 136, 50, 9, 4373, 228, 2, 5, 2, 656, 245, 2350, 5, 4, 2, 131, 152, 491, 18, 2, 32, 2, 1212, 14, 9, 6, 371, 78, 22, 625, 64, 1382, 9, 8, 168, 145, 23, 4, 1690, 15, 16, 4, 1355, 5, 28, 6, 52, 154, 462, 33, 89, 78, 285, 16, 145, 95]),\n",
       "       list([1, 14, 47, 8, 30, 31, 7, 4, 249, 108, 7, 4, 2, 54, 61, 369, 13, 71, 149, 14, 22, 112, 4, 2401, 311, 12, 16, 3711, 33, 75, 43, 1829, 296, 4, 86, 320, 35, 534, 19, 263, 4821, 1301, 4, 1873, 33, 89, 78, 12, 66, 16, 4, 360, 7, 4, 58, 316, 334, 11, 4, 1716, 43, 645, 662, 8, 257, 85, 1200, 42, 1228, 2578, 83, 68, 3912, 15, 36, 165, 1539, 278, 36, 69, 2, 780, 8, 106, 14, 2, 1338, 18, 6, 22, 12, 215, 28, 610, 40, 6, 87, 326, 23, 2300, 21, 23, 22, 12, 272, 40, 57, 31, 11, 4, 22, 47, 6, 2307, 51, 9, 170, 23, 595, 116, 595, 1352, 13, 191, 79, 638, 89, 2, 14, 9, 8, 106, 607, 624, 35, 534, 6, 227, 7, 129, 113]),\n",
       "       ...,\n",
       "       list([1, 11, 6, 230, 245, 2, 9, 6, 1225, 446, 2, 45, 2174, 84, 2, 4007, 21, 4, 912, 84, 2, 325, 725, 134, 2, 1715, 84, 5, 36, 28, 57, 1099, 21, 8, 140, 8, 703, 5, 2, 84, 56, 18, 1644, 14, 9, 31, 7, 4, 2, 1209, 2295, 2, 1008, 18, 6, 20, 207, 110, 563, 12, 8, 2901, 2, 8, 97, 6, 20, 53, 4767, 74, 4, 460, 364, 1273, 29, 270, 11, 960, 108, 45, 40, 29, 2961, 395, 11, 6, 4065, 500, 7, 2, 89, 364, 70, 29, 140, 4, 64, 4780, 11, 4, 2678, 26, 178, 4, 529, 443, 2, 5, 27, 710, 117, 2, 2, 165, 47, 84, 37, 131, 818, 14, 595, 10, 10, 61, 1242, 1209, 10, 10, 288, 2260, 1702, 34, 2901, 2, 4, 65, 496, 4, 231, 7, 790, 5, 6, 320, 234, 2766, 234, 1119, 1574, 7, 496, 4, 139, 929, 2901, 2, 2, 5, 4241, 18, 4, 2, 2, 250, 11, 1818, 2, 4, 4217, 2, 747, 1115, 372, 1890, 1006, 541, 2, 7, 4, 59, 2, 4, 3586, 2]),\n",
       "       list([1, 1446, 2, 69, 72, 3305, 13, 610, 930, 8, 12, 582, 23, 5, 16, 484, 685, 54, 349, 11, 4120, 2959, 45, 58, 1466, 13, 197, 12, 16, 43, 23, 2, 5, 62, 30, 145, 402, 11, 4131, 51, 575, 32, 61, 369, 71, 66, 770, 12, 1054, 75, 100, 2198, 8, 4, 105, 37, 69, 147, 712, 75, 3543, 44, 257, 390, 5, 69, 263, 514, 105, 50, 286, 1814, 23, 4, 123, 13, 161, 40, 5, 421, 4, 116, 16, 897, 13, 2, 40, 319, 2, 112, 2, 11, 4803, 121, 25, 70, 3468, 4, 719, 3798, 13, 18, 31, 62, 40, 8, 2, 4, 2, 7, 14, 123, 5, 942, 25, 8, 721, 12, 145, 5, 202, 12, 160, 580, 202, 12, 6, 52, 58, 2, 92, 401, 728, 12, 39, 14, 251, 8, 15, 251, 5, 2, 12, 38, 84, 80, 124, 12, 9, 23]),\n",
       "       list([1, 17, 6, 194, 337, 7, 4, 204, 22, 45, 254, 8, 106, 14, 123, 4, 2, 270, 2, 5, 2, 2, 732, 2098, 101, 405, 39, 14, 1034, 4, 1310, 9, 115, 50, 305, 12, 47, 4, 168, 5, 235, 7, 38, 111, 699, 102, 7, 4, 4039, 2, 9, 24, 6, 78, 1099, 17, 2345, 2, 21, 27, 2, 2, 5, 2, 1603, 92, 1183, 4, 1310, 7, 4, 204, 42, 97, 90, 35, 221, 109, 29, 127, 27, 118, 8, 97, 12, 157, 21, 2, 2, 9, 6, 66, 78, 1099, 4, 631, 1191, 5, 2642, 272, 191, 1070, 6, 2, 8, 2197, 2, 2, 544, 5, 383, 1271, 848, 1468, 2, 497, 2, 8, 1597, 2, 2, 21, 60, 27, 239, 9, 43, 2, 209, 405, 10, 10, 12, 764, 40, 4, 248, 20, 12, 16, 5, 174, 1791, 72, 7, 51, 6, 1739, 22, 4, 204, 131, 9])],\n",
       "      dtype=object)"
      ]
     },
     "execution_count": 2,
     "metadata": {},
     "output_type": "execute_result"
    }
   ],
   "source": [
    "# load the dataset but only keep the top n words, zero the rest\n",
    "top_words = 5000\n",
    "(X_train, y_train), (X_test, y_test) = imdb.load_data(num_words=top_words)\n",
    "X_train"
   ]
  },
  {
   "cell_type": "code",
   "execution_count": 3,
   "id": "732f210c",
   "metadata": {
    "execution": {
     "iopub.execute_input": "2022-01-22T08:50:59.412239Z",
     "iopub.status.busy": "2022-01-22T08:50:59.410911Z",
     "iopub.status.idle": "2022-01-22T08:51:01.908126Z",
     "shell.execute_reply": "2022-01-22T08:51:01.907170Z"
    },
    "id": "JatxUI68qzsI",
    "papermill": {
     "duration": 2.523171,
     "end_time": "2022-01-22T08:51:01.908280",
     "exception": false,
     "start_time": "2022-01-22T08:50:59.385109",
     "status": "completed"
    },
    "tags": []
   },
   "outputs": [],
   "source": [
    "# truncate and pad input sequences\n",
    "max_review_length = 500\n",
    "X_train = sequence.pad_sequences(X_train, maxlen=max_review_length)\n",
    "X_test = sequence.pad_sequences(X_test, maxlen=max_review_length)"
   ]
  },
  {
   "cell_type": "code",
   "execution_count": 4,
   "id": "350235ea",
   "metadata": {
    "execution": {
     "iopub.execute_input": "2022-01-22T08:51:01.938081Z",
     "iopub.status.busy": "2022-01-22T08:51:01.936561Z",
     "iopub.status.idle": "2022-01-22T08:51:01.940089Z",
     "shell.execute_reply": "2022-01-22T08:51:01.939659Z"
    },
    "id": "Qxd9204kq6X4",
    "outputId": "f4d5fd62-7593-47ca-86d6-65fca7ff8b84",
    "papermill": {
     "duration": 0.020436,
     "end_time": "2022-01-22T08:51:01.940199",
     "exception": false,
     "start_time": "2022-01-22T08:51:01.919763",
     "status": "completed"
    },
    "tags": []
   },
   "outputs": [
    {
     "data": {
      "text/plain": [
       "(25000, 500)"
      ]
     },
     "execution_count": 4,
     "metadata": {},
     "output_type": "execute_result"
    }
   ],
   "source": [
    "X_train.shape"
   ]
  },
  {
   "cell_type": "markdown",
   "id": "11ff4149",
   "metadata": {
    "id": "S5QgQSPhrDU8",
    "papermill": {
     "duration": 0.010973,
     "end_time": "2022-01-22T08:51:01.962267",
     "exception": false,
     "start_time": "2022-01-22T08:51:01.951294",
     "status": "completed"
    },
    "tags": []
   },
   "source": [
    "We can now define, compile and fit our LSTM model.\n",
    "\n",
    "The first layer is the Embedded layer that uses 32 length vectors to represent each word. The next layer is the LSTM layer with 100 memory units (smart neurons). Finally, because this is a classification problem we use a Dense output layer with a single neuron and a sigmoid activation function to make 0 or 1 predictions for the two classes (good and bad) in the problem.\n",
    "\n",
    "Because it is a binary classification problem, log loss is used as the loss function (binary_crossentropy in Keras). The efficient ADAM optimization algorithm is used. The model is fit for only 2 epochs because it quickly overfits the problem. A large batch size of 64 reviews is used to space out weight updates."
   ]
  },
  {
   "cell_type": "code",
   "execution_count": 5,
   "id": "2db38ab8",
   "metadata": {
    "execution": {
     "iopub.execute_input": "2022-01-22T08:51:01.992758Z",
     "iopub.status.busy": "2022-01-22T08:51:01.991977Z",
     "iopub.status.idle": "2022-01-22T08:51:01.995579Z",
     "shell.execute_reply": "2022-01-22T08:51:01.995991Z"
    },
    "id": "kr-ygKvPrED4",
    "outputId": "63fa28ae-2cb4-432d-c06d-148a117ecb96",
    "papermill": {
     "duration": 0.022993,
     "end_time": "2022-01-22T08:51:01.996151",
     "exception": false,
     "start_time": "2022-01-22T08:51:01.973158",
     "status": "completed"
    },
    "tags": []
   },
   "outputs": [
    {
     "name": "stdout",
     "output_type": "stream",
     "text": [
      "[   0    0    0    0    0    0    0    0    0    0    0    0    0    0\n",
      "    0    0    0    0    0    0    0    0    0    0    0    0    0    0\n",
      "    0    0    0    0    0    0    0    0    0    0    0    0    0    0\n",
      "    0    0    0    0    0    0    0    0    0    0    0    0    0    0\n",
      "    0    0    0    0    0    0    0    0    0    0    0    0    0    0\n",
      "    0    0    0    0    0    0    0    0    0    0    0    0    0    0\n",
      "    0    0    0    0    0    0    0    0    0    0    0    0    0    0\n",
      "    0    0    0    0    0    0    0    0    0    0    0    0    0    0\n",
      "    0    0    0    0    0    0    0    0    0    0    0    0    0    0\n",
      "    0    0    0    0    0    0    0    0    0    0    0    0    0    0\n",
      "    0    0    0    0    0    0    0    0    0    0    0    0    0    0\n",
      "    0    0    0    0    0    0    0    0    0    0    0    0    0    0\n",
      "    0    0    0    0    0    0    0    0    0    0    0    0    0    0\n",
      "    0    0    0    0    0    0    0    0    0    0    0    0    0    0\n",
      "    0    0    0    0    0    0    0    0    0    0    0    0    0    0\n",
      "    0    0    0    0    0    0    0    0    0    0    0    0    0    0\n",
      "    0    0    0    0    0    0    0    0    0    0    0    0    0    0\n",
      "    0    0    0    0    0    0    0    0    0    0    0    0    0    0\n",
      "    0    0    0    0    0    0    0    0    0    0    0    0    0    0\n",
      "    0    0    0    0    0    0    0    0    0    0    0    0    0    0\n",
      "    0    0    0    0    0    0    0    0    0    0    0    0    0    0\n",
      "    0    0    0    0    0    0    0    0    0    0    0    0    0    0\n",
      "    0    0    0    1  194 1153  194    2   78  228    5    6 1463 4369\n",
      "    2  134   26    4  715    8  118 1634   14  394   20   13  119  954\n",
      "  189  102    5  207  110 3103   21   14   69  188    8   30   23    7\n",
      "    4  249  126   93    4  114    9 2300 1523    5  647    4  116    9\n",
      "   35    2    4  229    9  340 1322    4  118    9    4  130 4901   19\n",
      "    4 1002    5   89   29  952   46   37    4  455    9   45   43   38\n",
      " 1543 1905  398    4 1649   26    2    5  163   11 3215    2    4 1153\n",
      "    9  194  775    7    2    2  349 2637  148  605    2    2   15  123\n",
      "  125   68    2    2   15  349  165 4362   98    5    4  228    9   43\n",
      "    2 1157   15  299  120    5  120  174   11  220  175  136   50    9\n",
      " 4373  228    2    5    2  656  245 2350    5    4    2  131  152  491\n",
      "   18    2   32    2 1212   14    9    6  371   78   22  625   64 1382\n",
      "    9    8  168  145   23    4 1690   15   16    4 1355    5   28    6\n",
      "   52  154  462   33   89   78  285   16  145   95]\n",
      "<class 'numpy.ndarray'>\n",
      "500\n"
     ]
    }
   ],
   "source": [
    "print(X_train[1])\n",
    "print(type(X_train[1]))\n",
    "print(len(X_train[1]))"
   ]
  },
  {
   "cell_type": "markdown",
   "id": "2b89ba36",
   "metadata": {
    "id": "QI7NpRsorRqO",
    "papermill": {
     "duration": 0.01131,
     "end_time": "2022-01-22T08:51:02.019150",
     "exception": false,
     "start_time": "2022-01-22T08:51:02.007840",
     "status": "completed"
    },
    "tags": []
   },
   "source": [
    "# Model Description\n",
    "- The first layer is the Embedded layer that uses 64 length vectors to represent each word. The next layer is the LSTM layer with 30 memory units (smart neurons)and dropout layer(0.2). Finally, because this is a classification problem we use a Dense output layer with a single neuron and a sigmoid activation function to make 0 or 1 predictions for the two classes (good and bad) in the problem.\n",
    "- Because it is a binary classification problem, log loss is used as the loss function (binary_crossentropy in Keras). The efficient ADAM optimization algorithm is used. The model is fit for only 2 epochs because it quickly overfits the problem. A large batch size of 64 reviews is used to space out weight updates."
   ]
  },
  {
   "cell_type": "code",
   "execution_count": 6,
   "id": "fd58005f",
   "metadata": {
    "execution": {
     "iopub.execute_input": "2022-01-22T08:51:02.047038Z",
     "iopub.status.busy": "2022-01-22T08:51:02.046504Z",
     "iopub.status.idle": "2022-01-22T08:51:04.584447Z",
     "shell.execute_reply": "2022-01-22T08:51:04.585213Z"
    },
    "id": "Ez_tVGyPrSah",
    "papermill": {
     "duration": 2.555077,
     "end_time": "2022-01-22T08:51:04.585410",
     "exception": false,
     "start_time": "2022-01-22T08:51:02.030333",
     "status": "completed"
    },
    "tags": []
   },
   "outputs": [
    {
     "name": "stderr",
     "output_type": "stream",
     "text": [
      "2022-01-22 08:51:02.118507: I tensorflow/stream_executor/cuda/cuda_gpu_executor.cc:937] successful NUMA node read from SysFS had negative value (-1), but there must be at least one NUMA node, so returning NUMA node zero\n",
      "2022-01-22 08:51:02.213362: I tensorflow/stream_executor/cuda/cuda_gpu_executor.cc:937] successful NUMA node read from SysFS had negative value (-1), but there must be at least one NUMA node, so returning NUMA node zero\n",
      "2022-01-22 08:51:02.214158: I tensorflow/stream_executor/cuda/cuda_gpu_executor.cc:937] successful NUMA node read from SysFS had negative value (-1), but there must be at least one NUMA node, so returning NUMA node zero\n",
      "2022-01-22 08:51:02.215694: I tensorflow/core/platform/cpu_feature_guard.cc:142] This TensorFlow binary is optimized with oneAPI Deep Neural Network Library (oneDNN) to use the following CPU instructions in performance-critical operations:  AVX2 AVX512F FMA\n",
      "To enable them in other operations, rebuild TensorFlow with the appropriate compiler flags.\n",
      "2022-01-22 08:51:02.216886: I tensorflow/stream_executor/cuda/cuda_gpu_executor.cc:937] successful NUMA node read from SysFS had negative value (-1), but there must be at least one NUMA node, so returning NUMA node zero\n",
      "2022-01-22 08:51:02.217608: I tensorflow/stream_executor/cuda/cuda_gpu_executor.cc:937] successful NUMA node read from SysFS had negative value (-1), but there must be at least one NUMA node, so returning NUMA node zero\n",
      "2022-01-22 08:51:02.218205: I tensorflow/stream_executor/cuda/cuda_gpu_executor.cc:937] successful NUMA node read from SysFS had negative value (-1), but there must be at least one NUMA node, so returning NUMA node zero\n",
      "2022-01-22 08:51:03.968254: I tensorflow/stream_executor/cuda/cuda_gpu_executor.cc:937] successful NUMA node read from SysFS had negative value (-1), but there must be at least one NUMA node, so returning NUMA node zero\n",
      "2022-01-22 08:51:03.969081: I tensorflow/stream_executor/cuda/cuda_gpu_executor.cc:937] successful NUMA node read from SysFS had negative value (-1), but there must be at least one NUMA node, so returning NUMA node zero\n",
      "2022-01-22 08:51:03.969744: I tensorflow/stream_executor/cuda/cuda_gpu_executor.cc:937] successful NUMA node read from SysFS had negative value (-1), but there must be at least one NUMA node, so returning NUMA node zero\n",
      "2022-01-22 08:51:03.970344: I tensorflow/core/common_runtime/gpu/gpu_device.cc:1510] Created device /job:localhost/replica:0/task:0/device:GPU:0 with 15403 MB memory:  -> device: 0, name: Tesla P100-PCIE-16GB, pci bus id: 0000:00:04.0, compute capability: 6.0\n"
     ]
    }
   ],
   "source": [
    "# create the model\n",
    "embedding_vecor_length = 64\n",
    "model = Sequential()\n",
    "model.add(Embedding(top_words, embedding_vecor_length, input_length=max_review_length))\n",
    "model.add(LSTM(30, dropout=0.2))\n",
    "model.add(Dense(1, activation='sigmoid'))\n",
    "model.compile(loss='binary_crossentropy', optimizer='adam', metrics=['accuracy'])"
   ]
  },
  {
   "cell_type": "code",
   "execution_count": 7,
   "id": "9b65cc41",
   "metadata": {
    "execution": {
     "iopub.execute_input": "2022-01-22T08:51:04.616893Z",
     "iopub.status.busy": "2022-01-22T08:51:04.615656Z",
     "iopub.status.idle": "2022-01-22T08:51:04.620176Z",
     "shell.execute_reply": "2022-01-22T08:51:04.620657Z"
    },
    "id": "RxvTIOPNrXeu",
    "outputId": "874b0a6f-77a9-4af1-c047-dcaf988a3d80",
    "papermill": {
     "duration": 0.023089,
     "end_time": "2022-01-22T08:51:04.620793",
     "exception": false,
     "start_time": "2022-01-22T08:51:04.597704",
     "status": "completed"
    },
    "tags": []
   },
   "outputs": [
    {
     "name": "stdout",
     "output_type": "stream",
     "text": [
      "Model: \"sequential\"\n",
      "_________________________________________________________________\n",
      "Layer (type)                 Output Shape              Param #   \n",
      "=================================================================\n",
      "embedding (Embedding)        (None, 500, 64)           320000    \n",
      "_________________________________________________________________\n",
      "lstm (LSTM)                  (None, 30)                11400     \n",
      "_________________________________________________________________\n",
      "dense (Dense)                (None, 1)                 31        \n",
      "=================================================================\n",
      "Total params: 331,431\n",
      "Trainable params: 331,431\n",
      "Non-trainable params: 0\n",
      "_________________________________________________________________\n"
     ]
    }
   ],
   "source": [
    "model.summary()"
   ]
  },
  {
   "cell_type": "code",
   "execution_count": 8,
   "id": "2bd6a18c",
   "metadata": {
    "execution": {
     "iopub.execute_input": "2022-01-22T08:51:04.649489Z",
     "iopub.status.busy": "2022-01-22T08:51:04.648824Z",
     "iopub.status.idle": "2022-01-22T08:55:13.835223Z",
     "shell.execute_reply": "2022-01-22T08:55:13.834805Z"
    },
    "id": "MejYJJFArcbM",
    "outputId": "0a2eb4e7-fa47-45ac-c44a-115862c08b92",
    "papermill": {
     "duration": 249.20225,
     "end_time": "2022-01-22T08:55:13.835413",
     "exception": false,
     "start_time": "2022-01-22T08:51:04.633163",
     "status": "completed"
    },
    "tags": []
   },
   "outputs": [
    {
     "name": "stdout",
     "output_type": "stream",
     "text": [
      "Epoch 1/10\n"
     ]
    },
    {
     "name": "stderr",
     "output_type": "stream",
     "text": [
      "2022-01-22 08:51:04.732660: I tensorflow/compiler/mlir/mlir_graph_optimization_pass.cc:185] None of the MLIR Optimization Passes are enabled (registered 2)\n",
      "2022-01-22 08:51:07.236000: I tensorflow/stream_executor/cuda/cuda_dnn.cc:369] Loaded cuDNN version 8005\n"
     ]
    },
    {
     "name": "stdout",
     "output_type": "stream",
     "text": [
      "782/782 [==============================] - 27s 30ms/step - loss: 0.4268 - accuracy: 0.8024 - val_loss: 0.3490 - val_accuracy: 0.8543\n",
      "Epoch 2/10\n",
      "782/782 [==============================] - 23s 29ms/step - loss: 0.2813 - accuracy: 0.8887 - val_loss: 0.3384 - val_accuracy: 0.8574\n",
      "Epoch 3/10\n",
      "782/782 [==============================] - 26s 34ms/step - loss: 0.2342 - accuracy: 0.9082 - val_loss: 0.3108 - val_accuracy: 0.8747\n",
      "Epoch 4/10\n",
      "782/782 [==============================] - 23s 29ms/step - loss: 0.2178 - accuracy: 0.9156 - val_loss: 0.3154 - val_accuracy: 0.8744\n",
      "Epoch 5/10\n",
      "782/782 [==============================] - 22s 29ms/step - loss: 0.1976 - accuracy: 0.9215 - val_loss: 0.3335 - val_accuracy: 0.8748\n",
      "Epoch 6/10\n",
      "782/782 [==============================] - 22s 29ms/step - loss: 0.1495 - accuracy: 0.9451 - val_loss: 0.3449 - val_accuracy: 0.8668\n",
      "Epoch 7/10\n",
      "782/782 [==============================] - 26s 34ms/step - loss: 0.1722 - accuracy: 0.9333 - val_loss: 0.3555 - val_accuracy: 0.8705\n",
      "Epoch 8/10\n",
      "782/782 [==============================] - 26s 34ms/step - loss: 0.1344 - accuracy: 0.9514 - val_loss: 0.3723 - val_accuracy: 0.8646\n",
      "Epoch 9/10\n",
      "782/782 [==============================] - 26s 33ms/step - loss: 0.1253 - accuracy: 0.9528 - val_loss: 0.4169 - val_accuracy: 0.8720\n",
      "Epoch 10/10\n",
      "782/782 [==============================] - 26s 34ms/step - loss: 0.1045 - accuracy: 0.9605 - val_loss: 0.4152 - val_accuracy: 0.8710\n"
     ]
    },
    {
     "data": {
      "text/plain": [
       "<keras.callbacks.History at 0x7f3ca4fa7a90>"
      ]
     },
     "execution_count": 8,
     "metadata": {},
     "output_type": "execute_result"
    }
   ],
   "source": [
    "model.fit(X_train, y_train, epochs=10, batch_size=32,validation_data=(X_test, y_test))"
   ]
  },
  {
   "cell_type": "code",
   "execution_count": 9,
   "id": "9925aea2",
   "metadata": {
    "execution": {
     "iopub.execute_input": "2022-01-22T08:55:16.017038Z",
     "iopub.status.busy": "2022-01-22T08:55:16.016002Z",
     "iopub.status.idle": "2022-01-22T08:55:22.706890Z",
     "shell.execute_reply": "2022-01-22T08:55:22.706444Z"
    },
    "id": "__nqkiOCrhlx",
    "outputId": "ad81f51f-e28f-4892-9392-35f5f3676baf",
    "papermill": {
     "duration": 7.710454,
     "end_time": "2022-01-22T08:55:22.707012",
     "exception": false,
     "start_time": "2022-01-22T08:55:14.996558",
     "status": "completed"
    },
    "tags": []
   },
   "outputs": [
    {
     "name": "stdout",
     "output_type": "stream",
     "text": [
      "Accuracy: 87.10%\n"
     ]
    }
   ],
   "source": [
    "# Final evaluation of the model\n",
    "scores = model.evaluate(X_test, y_test, verbose=0)\n",
    "print(\"Accuracy: %.2f%%\" % (scores[1]*100))"
   ]
  },
  {
   "cell_type": "code",
   "execution_count": 10,
   "id": "9de87bc8",
   "metadata": {
    "execution": {
     "iopub.execute_input": "2022-01-22T08:55:24.091812Z",
     "iopub.status.busy": "2022-01-22T08:55:24.090981Z",
     "iopub.status.idle": "2022-01-22T08:55:24.314438Z",
     "shell.execute_reply": "2022-01-22T08:55:24.315028Z"
    },
    "id": "335HRDGluqrE",
    "outputId": "5de88637-32a5-46ab-c505-2e5c4f112af2",
    "papermill": {
     "duration": 0.920997,
     "end_time": "2022-01-22T08:55:24.315222",
     "exception": false,
     "start_time": "2022-01-22T08:55:23.394225",
     "status": "completed"
    },
    "tags": []
   },
   "outputs": [
    {
     "name": "stdout",
     "output_type": "stream",
     "text": [
      "Model: \"sequential_1\"\n",
      "_________________________________________________________________\n",
      "Layer (type)                 Output Shape              Param #   \n",
      "=================================================================\n",
      "embedding_1 (Embedding)      (None, 500, 64)           320000    \n",
      "_________________________________________________________________\n",
      "dropout (Dropout)            (None, 500, 64)           0         \n",
      "_________________________________________________________________\n",
      "lstm_1 (LSTM)                (None, 100)               66000     \n",
      "_________________________________________________________________\n",
      "dropout_1 (Dropout)          (None, 100)               0         \n",
      "_________________________________________________________________\n",
      "dense_1 (Dense)              (None, 1)                 101       \n",
      "=================================================================\n",
      "Total params: 386,101\n",
      "Trainable params: 386,101\n",
      "Non-trainable params: 0\n",
      "_________________________________________________________________\n",
      "None\n"
     ]
    }
   ],
   "source": [
    "# LSTM Model with dropout Another Parameter\n",
    "\n",
    "from keras.layers import Dropout\n",
    "model = Sequential()\n",
    "model.add(Embedding(top_words, embedding_vecor_length, input_length=max_review_length))\n",
    "model.add(Dropout(0.2))\n",
    "model.add(LSTM(100))\n",
    "model.add(Dropout(0.2))\n",
    "model.add(Dense(1, activation='sigmoid'))\n",
    "model.compile(loss='binary_crossentropy', optimizer='adam', metrics=['accuracy'])\n",
    "print(model.summary())"
   ]
  },
  {
   "cell_type": "code",
   "execution_count": 11,
   "id": "f7c6998f",
   "metadata": {
    "execution": {
     "iopub.execute_input": "2022-01-22T08:55:25.952441Z",
     "iopub.status.busy": "2022-01-22T08:55:25.951449Z",
     "iopub.status.idle": "2022-01-22T08:56:05.968025Z",
     "shell.execute_reply": "2022-01-22T08:56:05.967398Z"
    },
    "id": "rE6vuoFPu1I0",
    "outputId": "28bf5308-84ef-442a-958b-ffd15a315f1a",
    "papermill": {
     "duration": 40.957415,
     "end_time": "2022-01-22T08:56:05.968204",
     "exception": false,
     "start_time": "2022-01-22T08:55:25.010789",
     "status": "completed"
    },
    "tags": []
   },
   "outputs": [
    {
     "name": "stdout",
     "output_type": "stream",
     "text": [
      "Epoch 1/3\n",
      "391/391 [==============================] - 12s 26ms/step - loss: 0.4386 - accuracy: 0.7920\n",
      "Epoch 2/3\n",
      "391/391 [==============================] - 10s 26ms/step - loss: 0.3074 - accuracy: 0.8756\n",
      "Epoch 3/3\n",
      "391/391 [==============================] - 10s 27ms/step - loss: 0.2541 - accuracy: 0.9014\n",
      "[0.3017553389072418, 0.8765599727630615]\n",
      "Accuracy: 87.66%\n"
     ]
    }
   ],
   "source": [
    "model.fit(X_train, y_train, epochs=3, batch_size=64)\n",
    "# Final evaluation of the model\n",
    "scores = model.evaluate(X_test, y_test, verbose=0)\n",
    "print(scores)\n",
    "print(\"Accuracy: %.2f%%\" % (scores[1]*100))"
   ]
  }
 ],
 "metadata": {
  "kernelspec": {
   "display_name": "Python 3",
   "language": "python",
   "name": "python3"
  },
  "language_info": {
   "codemirror_mode": {
    "name": "ipython",
    "version": 3
   },
   "file_extension": ".py",
   "mimetype": "text/x-python",
   "name": "python",
   "nbconvert_exporter": "python",
   "pygments_lexer": "ipython3",
   "version": "3.7.12"
  },
  "papermill": {
   "default_parameters": {},
   "duration": 330.635488,
   "end_time": "2022-01-22T08:56:10.571966",
   "environment_variables": {},
   "exception": null,
   "input_path": "__notebook__.ipynb",
   "output_path": "__notebook__.ipynb",
   "parameters": {},
   "start_time": "2022-01-22T08:50:39.936478",
   "version": "2.3.3"
  }
 },
 "nbformat": 4,
 "nbformat_minor": 5
}
